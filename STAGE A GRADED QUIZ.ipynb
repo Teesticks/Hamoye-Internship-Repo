{
 "cells": [
  {
   "cell_type": "markdown",
   "id": "bfe9e07f",
   "metadata": {},
   "source": [
    "# STAGE A GRADED QUIZ"
   ]
  },
  {
   "cell_type": "code",
   "execution_count": 25,
   "id": "e8045abd",
   "metadata": {},
   "outputs": [],
   "source": [
    "import numpy as np\n",
    "import pandas as pd"
   ]
  },
  {
   "cell_type": "markdown",
   "id": "fa233f4c",
   "metadata": {},
   "source": [
    "# Question 1"
   ]
  },
  {
   "cell_type": "code",
   "execution_count": 26,
   "id": "fc6b5dbb",
   "metadata": {},
   "outputs": [
    {
     "data": {
      "text/html": [
       "<div>\n",
       "<style scoped>\n",
       "    .dataframe tbody tr th:only-of-type {\n",
       "        vertical-align: middle;\n",
       "    }\n",
       "\n",
       "    .dataframe tbody tr th {\n",
       "        vertical-align: top;\n",
       "    }\n",
       "\n",
       "    .dataframe thead th {\n",
       "        text-align: right;\n",
       "    }\n",
       "</style>\n",
       "<table border=\"1\" class=\"dataframe\">\n",
       "  <thead>\n",
       "    <tr style=\"text-align: right;\">\n",
       "      <th></th>\n",
       "      <th>Age</th>\n",
       "      <th>Nationality</th>\n",
       "      <th>Overall</th>\n",
       "    </tr>\n",
       "  </thead>\n",
       "  <tbody>\n",
       "    <tr>\n",
       "      <th>1</th>\n",
       "      <td>35</td>\n",
       "      <td>Portugal</td>\n",
       "      <td>94</td>\n",
       "    </tr>\n",
       "    <tr>\n",
       "      <th>2</th>\n",
       "      <td>33</td>\n",
       "      <td>Argentina</td>\n",
       "      <td>93</td>\n",
       "    </tr>\n",
       "    <tr>\n",
       "      <th>3</th>\n",
       "      <td>30</td>\n",
       "      <td>Brazil</td>\n",
       "      <td>92</td>\n",
       "    </tr>\n",
       "  </tbody>\n",
       "</table>\n",
       "</div>"
      ],
      "text/plain": [
       "   Age Nationality  Overall\n",
       "1   35    Portugal       94\n",
       "2   33   Argentina       93\n",
       "3   30      Brazil       92"
      ]
     },
     "execution_count": 26,
     "metadata": {},
     "output_type": "execute_result"
    }
   ],
   "source": [
    "lst = [[35, 'Portugal', 94], [33, 'Argentina', 93], [30 , 'Brazil', 92]]\n",
    "\n",
    "col = ['Age','Nationality','Overall']\n",
    "data = pd.DataFrame(lst,columns=col,index=[i for i in range(1,4)])\n",
    "data"
   ]
  },
  {
   "cell_type": "markdown",
   "id": "9dc72598",
   "metadata": {},
   "source": [
    "# Question 2"
   ]
  },
  {
   "cell_type": "code",
   "execution_count": 27,
   "id": "283340c5",
   "metadata": {},
   "outputs": [
    {
     "data": {
      "text/plain": [
       "array([[89, 63],\n",
       "       [92, 48]])"
      ]
     },
     "execution_count": 27,
     "metadata": {},
     "output_type": "execute_result"
    }
   ],
   "source": [
    "array  =  np.array([[94, 89, 63],\n",
    "\n",
    "            [93, 92, 48],\n",
    "\n",
    "            [92, 94, 56]])\n",
    "array[:2,1:]"
   ]
  },
  {
   "cell_type": "markdown",
   "id": "4ddbce88",
   "metadata": {},
   "source": [
    "# Question 3"
   ]
  },
  {
   "cell_type": "code",
   "execution_count": 28,
   "id": "a1d56352",
   "metadata": {
    "scrolled": true
   },
   "outputs": [
    {
     "data": {
      "text/plain": [
       "'Math'"
      ]
     },
     "execution_count": 28,
     "metadata": {},
     "output_type": "execute_result"
    }
   ],
   "source": [
    "'Math'"
   ]
  },
  {
   "cell_type": "markdown",
   "id": "23c6edff",
   "metadata": {},
   "source": [
    "# Question 4"
   ]
  },
  {
   "cell_type": "code",
   "execution_count": 29,
   "id": "88eb3392",
   "metadata": {},
   "outputs": [
    {
     "data": {
      "text/plain": [
       "(3, 3)"
      ]
     },
     "execution_count": 29,
     "metadata": {},
     "output_type": "execute_result"
    }
   ],
   "source": [
    "#using data from question 1\n",
    "data.shape\n"
   ]
  },
  {
   "cell_type": "markdown",
   "id": "2086e2f8",
   "metadata": {},
   "source": [
    "# Question 5"
   ]
  },
  {
   "cell_type": "code",
   "execution_count": 30,
   "id": "635f8d88",
   "metadata": {},
   "outputs": [
    {
     "data": {
      "text/plain": [
       "'e'"
      ]
     },
     "execution_count": 30,
     "metadata": {},
     "output_type": "execute_result"
    }
   ],
   "source": [
    "S = [['him', 'sell'], [90, 28, 43]]\n",
    "\n",
    "S[0][1][1]"
   ]
  },
  {
   "cell_type": "markdown",
   "id": "d7be260b",
   "metadata": {},
   "source": [
    "# Question 6"
   ]
  },
  {
   "cell_type": "code",
   "execution_count": 31,
   "id": "ebccde49",
   "metadata": {},
   "outputs": [
    {
     "ename": "TypeError",
     "evalue": "'tuple' object does not support item assignment",
     "output_type": "error",
     "traceback": [
      "\u001b[1;31m---------------------------------------------------------------------------\u001b[0m",
      "\u001b[1;31mTypeError\u001b[0m                                 Traceback (most recent call last)",
      "\u001b[1;32m~\\AppData\\Local\\Temp/ipykernel_8960/3917941094.py\u001b[0m in \u001b[0;36m<module>\u001b[1;34m\u001b[0m\n\u001b[0;32m      1\u001b[0m \u001b[0mmy_tuppy\u001b[0m \u001b[1;33m=\u001b[0m \u001b[1;33m(\u001b[0m\u001b[1;36m1\u001b[0m\u001b[1;33m,\u001b[0m\u001b[1;36m2\u001b[0m\u001b[1;33m,\u001b[0m\u001b[1;36m5\u001b[0m\u001b[1;33m,\u001b[0m\u001b[1;36m8\u001b[0m\u001b[1;33m)\u001b[0m\u001b[1;33m\u001b[0m\u001b[1;33m\u001b[0m\u001b[0m\n\u001b[0;32m      2\u001b[0m \u001b[1;33m\u001b[0m\u001b[0m\n\u001b[1;32m----> 3\u001b[1;33m \u001b[0mmy_tuppy\u001b[0m\u001b[1;33m[\u001b[0m\u001b[1;36m2\u001b[0m\u001b[1;33m]\u001b[0m \u001b[1;33m=\u001b[0m \u001b[1;36m6\u001b[0m\u001b[1;33m\u001b[0m\u001b[1;33m\u001b[0m\u001b[0m\n\u001b[0m",
      "\u001b[1;31mTypeError\u001b[0m: 'tuple' object does not support item assignment"
     ]
    }
   ],
   "source": [
    "my_tuppy = (1,2,5,8)\n",
    "\n",
    "my_tuppy[2] = 6"
   ]
  },
  {
   "cell_type": "markdown",
   "id": "7dbc6b0b",
   "metadata": {},
   "source": [
    "# Question 7"
   ]
  },
  {
   "cell_type": "code",
   "execution_count": 32,
   "id": "c1371b92",
   "metadata": {},
   "outputs": [
    {
     "data": {
      "text/plain": [
       "8"
      ]
     },
     "execution_count": 32,
     "metadata": {},
     "output_type": "execute_result"
    }
   ],
   "source": [
    "y = [(2, 4), (7, 8), (1, 5, 9)]\n",
    "y[1][1]\n",
    "y[1][-1]"
   ]
  },
  {
   "cell_type": "markdown",
   "id": "9de10e63",
   "metadata": {},
   "source": [
    "# Question 8"
   ]
  },
  {
   "cell_type": "code",
   "execution_count": 33,
   "id": "612af00b",
   "metadata": {},
   "outputs": [
    {
     "data": {
      "text/plain": [
       "'Set'"
      ]
     },
     "execution_count": 33,
     "metadata": {},
     "output_type": "execute_result"
    }
   ],
   "source": [
    "'Set'"
   ]
  },
  {
   "cell_type": "markdown",
   "id": "3d27f1cf",
   "metadata": {},
   "source": [
    "# Question 9"
   ]
  },
  {
   "cell_type": "code",
   "execution_count": 34,
   "id": "99770ee4",
   "metadata": {},
   "outputs": [
    {
     "data": {
      "text/plain": [
       "'3 features, 100 observations'"
      ]
     },
     "execution_count": 34,
     "metadata": {},
     "output_type": "execute_result"
    }
   ],
   "source": [
    "'3 features, 100 observations'"
   ]
  },
  {
   "cell_type": "markdown",
   "id": "47265092",
   "metadata": {},
   "source": [
    "# Question 10"
   ]
  },
  {
   "cell_type": "code",
   "execution_count": 35,
   "id": "d9852f0e",
   "metadata": {},
   "outputs": [
    {
     "data": {
      "text/plain": [
       "'df.iloc[ : ]'"
      ]
     },
     "execution_count": 35,
     "metadata": {},
     "output_type": "execute_result"
    }
   ],
   "source": [
    "'df.iloc[ : ]'"
   ]
  },
  {
   "cell_type": "markdown",
   "id": "6f0a173c",
   "metadata": {},
   "source": [
    "# Question 11"
   ]
  },
  {
   "cell_type": "code",
   "execution_count": 36,
   "id": "f0b189a2",
   "metadata": {},
   "outputs": [
    {
     "data": {
      "text/plain": [
       "Area Code         85279.00\n",
       "Item Code       1882494.00\n",
       "Element Code    2567303.00\n",
       "Y2014            209460.54\n",
       "Y2015            200675.72\n",
       "Y2016            183314.22\n",
       "Y2017            269617.53\n",
       "Y2018            269648.27\n",
       "Name: Animal fats, dtype: float64"
      ]
     },
     "execution_count": 36,
     "metadata": {},
     "output_type": "execute_result"
    }
   ],
   "source": [
    "quiz_data = pd.read_csv(r'C:\\Users\\Hp\\Downloads\\FoodBalanceSheets_E_Africa_NOFLAG.csv',encoding='latin1')\n",
    "quiz_data.groupby('Item').sum().loc['Animal fats']"
   ]
  },
  {
   "cell_type": "markdown",
   "id": "c814679e",
   "metadata": {},
   "source": [
    "# Question 12"
   ]
  },
  {
   "cell_type": "code",
   "execution_count": 37,
   "id": "6a81bbae",
   "metadata": {},
   "outputs": [
    {
     "data": {
      "text/plain": [
       "135.23596649549236"
      ]
     },
     "execution_count": 37,
     "metadata": {},
     "output_type": "execute_result"
    }
   ],
   "source": [
    "quiz_data['Y2015'].mean()"
   ]
  },
  {
   "cell_type": "code",
   "execution_count": 38,
   "id": "0f469dbc",
   "metadata": {},
   "outputs": [
    {
     "data": {
      "text/plain": [
       "1603.4039839423301"
      ]
     },
     "execution_count": 38,
     "metadata": {},
     "output_type": "execute_result"
    }
   ],
   "source": [
    "quiz_data['Y2015'].std()"
   ]
  },
  {
   "cell_type": "markdown",
   "id": "b871efd0",
   "metadata": {},
   "source": [
    "# Question 13"
   ]
  },
  {
   "cell_type": "code",
   "execution_count": 39,
   "id": "49d1203b",
   "metadata": {
    "scrolled": true
   },
   "outputs": [
    {
     "data": {
      "text/plain": [
       "1535"
      ]
     },
     "execution_count": 39,
     "metadata": {},
     "output_type": "execute_result"
    }
   ],
   "source": [
    "quiz_data.isnull().sum()['Y2016']"
   ]
  },
  {
   "cell_type": "code",
   "execution_count": 40,
   "id": "2a886351",
   "metadata": {},
   "outputs": [
    {
     "data": {
      "text/plain": [
       "20.160231153138955"
      ]
     },
     "execution_count": 40,
     "metadata": {},
     "output_type": "execute_result"
    }
   ],
   "source": [
    "((quiz_data.isnull().sum()['Y2016'])/(quiz_data.isnull().sum().sum()))*100"
   ]
  },
  {
   "cell_type": "markdown",
   "id": "d74a683d",
   "metadata": {},
   "source": [
    "# Question 14"
   ]
  },
  {
   "cell_type": "code",
   "execution_count": 41,
   "id": "2886c544",
   "metadata": {},
   "outputs": [
    {
     "name": "stdout",
     "output_type": "stream",
     "text": [
      "0.024456819495221795\n",
      "0.02388919930163992\n",
      "0.023443997584961428\n",
      "0.02425400776004572\n",
      "0.02427857195351955\n"
     ]
    }
   ],
   "source": [
    "corr = []\n",
    "for i in ['Y2014','Y2015','Y2016','Y2017','Y2018']:\n",
    "    cor = quiz_data['Element Code'].corr(quiz_data[i])\n",
    "    corr.append(cor)\n",
    "    print(cor)"
   ]
  },
  {
   "cell_type": "code",
   "execution_count": 42,
   "id": "55cce986",
   "metadata": {},
   "outputs": [
    {
     "data": {
      "text/plain": [
       "0.024456819495221795"
      ]
     },
     "execution_count": 42,
     "metadata": {},
     "output_type": "execute_result"
    }
   ],
   "source": [
    "max(corr)"
   ]
  },
  {
   "cell_type": "markdown",
   "id": "5b7be935",
   "metadata": {},
   "source": [
    "# Question 15"
   ]
  },
  {
   "cell_type": "code",
   "execution_count": 43,
   "id": "47d730f3",
   "metadata": {
    "scrolled": true
   },
   "outputs": [
    {
     "data": {
      "text/plain": [
       "Area Code         688174.00\n",
       "Item Code       13795966.00\n",
       "Element Code    28834929.00\n",
       "Y2014             274144.48\n",
       "Y2015             267018.46\n",
       "Y2016             286582.78\n",
       "Y2017             294559.09\n",
       "Y2018             287997.09\n",
       "Name: Import Quantity, dtype: float64"
      ]
     },
     "execution_count": 43,
     "metadata": {},
     "output_type": "execute_result"
    }
   ],
   "source": [
    "quiz_data.groupby('Element').sum().loc['Import Quantity']"
   ]
  },
  {
   "cell_type": "markdown",
   "id": "ab7c58d6",
   "metadata": {},
   "source": [
    "# Question 16"
   ]
  },
  {
   "cell_type": "code",
   "execution_count": 44,
   "id": "af0958fd",
   "metadata": {},
   "outputs": [
    {
     "data": {
      "text/plain": [
       "1931287.75"
      ]
     },
     "execution_count": 44,
     "metadata": {},
     "output_type": "execute_result"
    }
   ],
   "source": [
    "quiz_data.groupby('Element').sum().loc['Production']['Y2014']"
   ]
  },
  {
   "cell_type": "markdown",
   "id": "8c433b7a",
   "metadata": {},
   "source": [
    "# Question 17"
   ]
  },
  {
   "cell_type": "code",
   "execution_count": 45,
   "id": "2e9fb5af",
   "metadata": {},
   "outputs": [
    {
     "data": {
      "text/plain": [
       "'Domestic supply quantity'"
      ]
     },
     "execution_count": 45,
     "metadata": {},
     "output_type": "execute_result"
    }
   ],
   "source": [
    "quiz_data.groupby('Element').sum()['Y2018'].idxmax()"
   ]
  },
  {
   "cell_type": "markdown",
   "id": "d154688e",
   "metadata": {},
   "source": [
    "# Question 18"
   ]
  },
  {
   "cell_type": "code",
   "execution_count": 46,
   "id": "b3ec66f1",
   "metadata": {},
   "outputs": [
    {
     "data": {
      "text/plain": [
       "Element\n",
       "Domestic supply quantity                  2161192.10\n",
       "Production                                2075072.89\n",
       "Food                                      1303841.28\n",
       "Total Population - Both sexes             1140605.00\n",
       "Food supply (kcal/capita/day)              455261.00\n",
       "Processing                                 308429.00\n",
       "Import Quantity                            287997.09\n",
       "Feed                                       233489.68\n",
       "Export Quantity                            181594.80\n",
       "Losses                                     163902.00\n",
       "Other uses (non-food)                       91300.97\n",
       "Food supply quantity (kg/capita/yr)         49056.85\n",
       "Residuals                                   34864.00\n",
       "Seed                                        25263.14\n",
       "Stock Variation                             20577.91\n",
       "Protein supply quantity (g/capita/day)      11833.56\n",
       "Fat supply quantity (g/capita/day)          10258.69\n",
       "Tourist consumption                            90.00\n",
       "Name: Y2018, dtype: float64"
      ]
     },
     "execution_count": 46,
     "metadata": {},
     "output_type": "execute_result"
    }
   ],
   "source": [
    "quiz_data.groupby('Element').sum()['Y2018'].sort_values(ascending=False)"
   ]
  },
  {
   "cell_type": "markdown",
   "id": "c73ef20c",
   "metadata": {},
   "source": [
    "# Question 19"
   ]
  },
  {
   "cell_type": "code",
   "execution_count": 47,
   "id": "89865089",
   "metadata": {
    "scrolled": true
   },
   "outputs": [
    {
     "data": {
      "text/html": [
       "<div>\n",
       "<style scoped>\n",
       "    .dataframe tbody tr th:only-of-type {\n",
       "        vertical-align: middle;\n",
       "    }\n",
       "\n",
       "    .dataframe tbody tr th {\n",
       "        vertical-align: top;\n",
       "    }\n",
       "\n",
       "    .dataframe thead th {\n",
       "        text-align: right;\n",
       "    }\n",
       "</style>\n",
       "<table border=\"1\" class=\"dataframe\">\n",
       "  <thead>\n",
       "    <tr style=\"text-align: right;\">\n",
       "      <th></th>\n",
       "      <th></th>\n",
       "      <th>Area Code</th>\n",
       "      <th>Item Code</th>\n",
       "      <th>Element Code</th>\n",
       "      <th>Y2014</th>\n",
       "      <th>Y2015</th>\n",
       "      <th>Y2016</th>\n",
       "      <th>Y2017</th>\n",
       "      <th>Y2018</th>\n",
       "    </tr>\n",
       "    <tr>\n",
       "      <th>Area</th>\n",
       "      <th>Element</th>\n",
       "      <th></th>\n",
       "      <th></th>\n",
       "      <th></th>\n",
       "      <th></th>\n",
       "      <th></th>\n",
       "      <th></th>\n",
       "      <th></th>\n",
       "      <th></th>\n",
       "    </tr>\n",
       "  </thead>\n",
       "  <tbody>\n",
       "    <tr>\n",
       "      <th rowspan=\"5\" valign=\"top\">Algeria</th>\n",
       "      <th>Domestic supply quantity</th>\n",
       "      <td>464</td>\n",
       "      <td>311204</td>\n",
       "      <td>614916</td>\n",
       "      <td>83755.94</td>\n",
       "      <td>85972.86</td>\n",
       "      <td>87157.61</td>\n",
       "      <td>86810.42</td>\n",
       "      <td>90023.42</td>\n",
       "    </tr>\n",
       "    <tr>\n",
       "      <th>Export Quantity</th>\n",
       "      <td>392</td>\n",
       "      <td>264011</td>\n",
       "      <td>579278</td>\n",
       "      <td>1328.64</td>\n",
       "      <td>1104.62</td>\n",
       "      <td>1340.22</td>\n",
       "      <td>1494.54</td>\n",
       "      <td>811.54</td>\n",
       "    </tr>\n",
       "    <tr>\n",
       "      <th>Fat supply quantity (g/capita/day)</th>\n",
       "      <td>432</td>\n",
       "      <td>291489</td>\n",
       "      <td>73872</td>\n",
       "      <td>320.19</td>\n",
       "      <td>317.40</td>\n",
       "      <td>309.54</td>\n",
       "      <td>320.74</td>\n",
       "      <td>309.09</td>\n",
       "    </tr>\n",
       "    <tr>\n",
       "      <th>Feed</th>\n",
       "      <td>88</td>\n",
       "      <td>58967</td>\n",
       "      <td>121462</td>\n",
       "      <td>9656.04</td>\n",
       "      <td>10308.00</td>\n",
       "      <td>9903.00</td>\n",
       "      <td>9571.00</td>\n",
       "      <td>10668.00</td>\n",
       "    </tr>\n",
       "    <tr>\n",
       "      <th>Food</th>\n",
       "      <td>420</td>\n",
       "      <td>282744</td>\n",
       "      <td>539910</td>\n",
       "      <td>60582.69</td>\n",
       "      <td>61693.49</td>\n",
       "      <td>63081.43</td>\n",
       "      <td>62785.33</td>\n",
       "      <td>63736.33</td>\n",
       "    </tr>\n",
       "    <tr>\n",
       "      <th>...</th>\n",
       "      <th>...</th>\n",
       "      <td>...</td>\n",
       "      <td>...</td>\n",
       "      <td>...</td>\n",
       "      <td>...</td>\n",
       "      <td>...</td>\n",
       "      <td>...</td>\n",
       "      <td>...</td>\n",
       "      <td>...</td>\n",
       "    </tr>\n",
       "    <tr>\n",
       "      <th rowspan=\"5\" valign=\"top\">Zimbabwe</th>\n",
       "      <th>Protein supply quantity (g/capita/day)</th>\n",
       "      <td>20453</td>\n",
       "      <td>304589</td>\n",
       "      <td>76162</td>\n",
       "      <td>184.23</td>\n",
       "      <td>175.31</td>\n",
       "      <td>172.72</td>\n",
       "      <td>175.31</td>\n",
       "      <td>176.57</td>\n",
       "    </tr>\n",
       "    <tr>\n",
       "      <th>Residuals</th>\n",
       "      <td>18824</td>\n",
       "      <td>277476</td>\n",
       "      <td>537680</td>\n",
       "      <td>-252.00</td>\n",
       "      <td>-780.00</td>\n",
       "      <td>-882.00</td>\n",
       "      <td>-1083.00</td>\n",
       "      <td>-546.00</td>\n",
       "    </tr>\n",
       "    <tr>\n",
       "      <th>Seed</th>\n",
       "      <td>3439</td>\n",
       "      <td>50560</td>\n",
       "      <td>105013</td>\n",
       "      <td>144.00</td>\n",
       "      <td>128.00</td>\n",
       "      <td>127.00</td>\n",
       "      <td>162.00</td>\n",
       "      <td>140.00</td>\n",
       "    </tr>\n",
       "    <tr>\n",
       "      <th>Stock Variation</th>\n",
       "      <td>17195</td>\n",
       "      <td>254157</td>\n",
       "      <td>481840</td>\n",
       "      <td>-644.00</td>\n",
       "      <td>-343.00</td>\n",
       "      <td>221.00</td>\n",
       "      <td>458.00</td>\n",
       "      <td>-447.00</td>\n",
       "    </tr>\n",
       "    <tr>\n",
       "      <th>Total Population - Both sexes</th>\n",
       "      <td>181</td>\n",
       "      <td>2501</td>\n",
       "      <td>511</td>\n",
       "      <td>13587.00</td>\n",
       "      <td>13815.00</td>\n",
       "      <td>14030.00</td>\n",
       "      <td>14237.00</td>\n",
       "      <td>14439.00</td>\n",
       "    </tr>\n",
       "  </tbody>\n",
       "</table>\n",
       "<p>803 rows × 8 columns</p>\n",
       "</div>"
      ],
      "text/plain": [
       "                                                 Area Code  Item Code  \\\n",
       "Area     Element                                                        \n",
       "Algeria  Domestic supply quantity                      464     311204   \n",
       "         Export Quantity                               392     264011   \n",
       "         Fat supply quantity (g/capita/day)            432     291489   \n",
       "         Feed                                           88      58967   \n",
       "         Food                                          420     282744   \n",
       "...                                                    ...        ...   \n",
       "Zimbabwe Protein supply quantity (g/capita/day)      20453     304589   \n",
       "         Residuals                                   18824     277476   \n",
       "         Seed                                         3439      50560   \n",
       "         Stock Variation                             17195     254157   \n",
       "         Total Population - Both sexes                 181       2501   \n",
       "\n",
       "                                                 Element Code     Y2014  \\\n",
       "Area     Element                                                          \n",
       "Algeria  Domestic supply quantity                      614916  83755.94   \n",
       "         Export Quantity                               579278   1328.64   \n",
       "         Fat supply quantity (g/capita/day)             73872    320.19   \n",
       "         Feed                                          121462   9656.04   \n",
       "         Food                                          539910  60582.69   \n",
       "...                                                       ...       ...   \n",
       "Zimbabwe Protein supply quantity (g/capita/day)         76162    184.23   \n",
       "         Residuals                                     537680   -252.00   \n",
       "         Seed                                          105013    144.00   \n",
       "         Stock Variation                               481840   -644.00   \n",
       "         Total Population - Both sexes                    511  13587.00   \n",
       "\n",
       "                                                    Y2015     Y2016     Y2017  \\\n",
       "Area     Element                                                                \n",
       "Algeria  Domestic supply quantity                85972.86  87157.61  86810.42   \n",
       "         Export Quantity                          1104.62   1340.22   1494.54   \n",
       "         Fat supply quantity (g/capita/day)        317.40    309.54    320.74   \n",
       "         Feed                                    10308.00   9903.00   9571.00   \n",
       "         Food                                    61693.49  63081.43  62785.33   \n",
       "...                                                   ...       ...       ...   \n",
       "Zimbabwe Protein supply quantity (g/capita/day)    175.31    172.72    175.31   \n",
       "         Residuals                                -780.00   -882.00  -1083.00   \n",
       "         Seed                                      128.00    127.00    162.00   \n",
       "         Stock Variation                          -343.00    221.00    458.00   \n",
       "         Total Population - Both sexes           13815.00  14030.00  14237.00   \n",
       "\n",
       "                                                    Y2018  \n",
       "Area     Element                                           \n",
       "Algeria  Domestic supply quantity                90023.42  \n",
       "         Export Quantity                           811.54  \n",
       "         Fat supply quantity (g/capita/day)        309.09  \n",
       "         Feed                                    10668.00  \n",
       "         Food                                    63736.33  \n",
       "...                                                   ...  \n",
       "Zimbabwe Protein supply quantity (g/capita/day)    176.57  \n",
       "         Residuals                                -546.00  \n",
       "         Seed                                      140.00  \n",
       "         Stock Variation                          -447.00  \n",
       "         Total Population - Both sexes           14439.00  \n",
       "\n",
       "[803 rows x 8 columns]"
      ]
     },
     "execution_count": 47,
     "metadata": {},
     "output_type": "execute_result"
    }
   ],
   "source": [
    "quiz_data.groupby(['Area','Element']).sum()"
   ]
  },
  {
   "cell_type": "code",
   "execution_count": 48,
   "id": "64d85200",
   "metadata": {},
   "outputs": [
    {
     "data": {
      "text/plain": [
       "36238.29"
      ]
     },
     "execution_count": 48,
     "metadata": {},
     "output_type": "execute_result"
    }
   ],
   "source": [
    "quiz_data.groupby(['Area','Element']).sum().loc['Algeria','Import Quantity']['Y2018']"
   ]
  },
  {
   "cell_type": "markdown",
   "id": "9c0e6c0a",
   "metadata": {},
   "source": [
    "# Question 20"
   ]
  },
  {
   "cell_type": "code",
   "execution_count": 49,
   "id": "a53c2e1f",
   "metadata": {
    "scrolled": false
   },
   "outputs": [
    {
     "data": {
      "text/plain": [
       "49"
      ]
     },
     "execution_count": 49,
     "metadata": {},
     "output_type": "execute_result"
    }
   ],
   "source": [
    "\n",
    "quiz_data['Area'].nunique()"
   ]
  }
 ],
 "metadata": {
  "kernelspec": {
   "display_name": "Python 3 (ipykernel)",
   "language": "python",
   "name": "python3"
  },
  "language_info": {
   "codemirror_mode": {
    "name": "ipython",
    "version": 3
   },
   "file_extension": ".py",
   "mimetype": "text/x-python",
   "name": "python",
   "nbconvert_exporter": "python",
   "pygments_lexer": "ipython3",
   "version": "3.9.7"
  }
 },
 "nbformat": 4,
 "nbformat_minor": 5
}
